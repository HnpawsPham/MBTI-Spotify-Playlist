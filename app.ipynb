{
 "cells": [
  {
   "cell_type": "code",
   "execution_count": null,
   "id": "2ac0ea2a",
   "metadata": {},
   "outputs": [],
   "source": [
    "import streamlit as st\n",
    "import numpy as np\n",
    "import os, json\n",
    "import pandas as pd\n",
    "from dotenv import load_dotenv"
   ]
  },
  {
   "cell_type": "code",
   "execution_count": 9,
   "id": "f9c1a64d",
   "metadata": {},
   "outputs": [
    {
     "name": "stdout",
     "output_type": "stream",
     "text": [
      "['INFP' 'ENFP' 'INFJ' 'ENFJ' 'INTP' 'ENTP' 'INTJ' 'ENTJ' 'ISFP' 'ESFP'\n",
      " 'ISTP' 'ESTP' 'ISFJ' 'ESFJ' 'ISTJ' 'ESTJ']\n"
     ]
    }
   ],
   "source": [
    "combined_mbti_df = pd.read_csv(\"./csv/combined_mbti_df.csv\")\n",
    "mbti_types = combined_mbti_df[\"mbti\"].drop_duplicates().to_numpy()\n",
    "\n",
    "print(mbti_types)"
   ]
  }
 ],
 "metadata": {
  "kernelspec": {
   "display_name": "Python 3",
   "language": "python",
   "name": "python3"
  },
  "language_info": {
   "codemirror_mode": {
    "name": "ipython",
    "version": 3
   },
   "file_extension": ".py",
   "mimetype": "text/x-python",
   "name": "python",
   "nbconvert_exporter": "python",
   "pygments_lexer": "ipython3",
   "version": "3.13.3"
  }
 },
 "nbformat": 4,
 "nbformat_minor": 5
}
